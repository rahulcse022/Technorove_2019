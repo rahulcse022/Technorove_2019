{
  "nbformat": 4,
  "nbformat_minor": 0,
  "metadata": {
    "colab": {
      "name": "Paper Trading Simulator_example.ipynb",
      "provenance": [],
      "collapsed_sections": []
    },
    "kernelspec": {
      "name": "python3",
      "display_name": "Python 3"
    },
    "language_info": {
      "name": "python"
    }
  },
  "cells": [
    {
      "cell_type": "markdown",
      "metadata": {
        "id": "Azxb_G_Kq_pN"
      },
      "source": [
        "[**Financial Programming with Ritvik**](https://www.youtube.com/c/FinancialProgrammingwithRitvik)"
      ]
    },
    {
      "cell_type": "code",
      "metadata": {
        "id": "7V7-wmBMW0_P"
      },
      "source": [
        "amount = 1000\n",
        "portfolio = 0\n",
        "money_end = amount\n",
        "investment = []\n",
        "transaction_cost = 0.0075"
      ],
      "execution_count": null,
      "outputs": []
    },
    {
      "cell_type": "code",
      "metadata": {
        "id": "rj79adcWXDXe"
      },
      "source": [
        "def buy(quantity,price):\n",
        "  global portfolio, money_end\n",
        "  allocated_money = quantity * price\n",
        "  money_end = money_end - allocated_money - transaction_cost*allocated_money\n",
        "  portfolio += quantity\n",
        "  if investment == []:\n",
        "    investment.append(allocated_money)\n",
        "  else:\n",
        "    investment.append(allocated_money)\n",
        "    investment[-1] += investment[-2]\n",
        "\n",
        "def sell(quantity,price):\n",
        "  global portfolio, money_end\n",
        "  allocated_money = quantity * price\n",
        "  money_end = money_end + allocated_money -transaction_cost*allocated_money\n",
        "  portfolio -= quantity\n",
        "  investment.append(-allocated_money)\n",
        "  investment[-1] += investment[-2]"
      ],
      "execution_count": null,
      "outputs": []
    },
    {
      "cell_type": "code",
      "metadata": {
        "id": "vTMsHafrYzYv"
      },
      "source": [
        "price = 180"
      ],
      "execution_count": null,
      "outputs": []
    },
    {
      "cell_type": "code",
      "metadata": {
        "id": "pOyB43k_Y2IT"
      },
      "source": [
        "buy(3,price)"
      ],
      "execution_count": null,
      "outputs": []
    },
    {
      "cell_type": "code",
      "metadata": {
        "colab": {
          "base_uri": "https://localhost:8080/"
        },
        "id": "WYa2HLavY6wO",
        "outputId": "aa6196b0-0452-4af7-d6d8-99ff7450e221"
      },
      "source": [
        "investment"
      ],
      "execution_count": null,
      "outputs": [
        {
          "output_type": "execute_result",
          "data": {
            "text/plain": [
              "[540]"
            ]
          },
          "metadata": {
            "tags": []
          },
          "execution_count": 57
        }
      ]
    },
    {
      "cell_type": "code",
      "metadata": {
        "colab": {
          "base_uri": "https://localhost:8080/"
        },
        "id": "3HwlorTDY8f0",
        "outputId": "00eeba24-7c31-46c3-ee13-62ddbb577c79"
      },
      "source": [
        "portfolio"
      ],
      "execution_count": null,
      "outputs": [
        {
          "output_type": "execute_result",
          "data": {
            "text/plain": [
              "3"
            ]
          },
          "metadata": {
            "tags": []
          },
          "execution_count": 58
        }
      ]
    },
    {
      "cell_type": "code",
      "metadata": {
        "colab": {
          "base_uri": "https://localhost:8080/"
        },
        "id": "ARFtob3jZLUu",
        "outputId": "232f336e-e585-4bf6-8409-7271d62e454b"
      },
      "source": [
        "money_end"
      ],
      "execution_count": null,
      "outputs": [
        {
          "output_type": "execute_result",
          "data": {
            "text/plain": [
              "455.95"
            ]
          },
          "metadata": {
            "tags": []
          },
          "execution_count": 59
        }
      ]
    },
    {
      "cell_type": "code",
      "metadata": {
        "id": "sCJgTgeWZMsi"
      },
      "source": [
        "price = 220\n",
        "buy(1,price)"
      ],
      "execution_count": null,
      "outputs": []
    },
    {
      "cell_type": "code",
      "metadata": {
        "colab": {
          "base_uri": "https://localhost:8080/"
        },
        "id": "T7QxG-2CZ29Q",
        "outputId": "32e9b9cc-1033-43af-d327-31d9dbf6caf0"
      },
      "source": [
        "investment"
      ],
      "execution_count": null,
      "outputs": [
        {
          "output_type": "execute_result",
          "data": {
            "text/plain": [
              "[540, 760]"
            ]
          },
          "metadata": {
            "tags": []
          },
          "execution_count": 61
        }
      ]
    },
    {
      "cell_type": "code",
      "metadata": {
        "colab": {
          "base_uri": "https://localhost:8080/"
        },
        "id": "1OM9gogdZ3tz",
        "outputId": "a2629e8d-4a96-4ae1-ce4f-11192455579a"
      },
      "source": [
        "portfolio"
      ],
      "execution_count": null,
      "outputs": [
        {
          "output_type": "execute_result",
          "data": {
            "text/plain": [
              "4"
            ]
          },
          "metadata": {
            "tags": []
          },
          "execution_count": 62
        }
      ]
    },
    {
      "cell_type": "code",
      "metadata": {
        "colab": {
          "base_uri": "https://localhost:8080/"
        },
        "id": "BqnX4RpAZ5qZ",
        "outputId": "e18e77a3-9665-4944-9600-76864218e929"
      },
      "source": [
        "money_end"
      ],
      "execution_count": null,
      "outputs": [
        {
          "output_type": "execute_result",
          "data": {
            "text/plain": [
              "234.29999999999998"
            ]
          },
          "metadata": {
            "tags": []
          },
          "execution_count": 63
        }
      ]
    },
    {
      "cell_type": "code",
      "metadata": {
        "id": "3xECZK4CZ6-M"
      },
      "source": [
        "price = 320\n",
        "sell(3,price)"
      ],
      "execution_count": null,
      "outputs": []
    },
    {
      "cell_type": "code",
      "metadata": {
        "colab": {
          "base_uri": "https://localhost:8080/"
        },
        "id": "OkwDPPU6Z_uj",
        "outputId": "74ff28cd-05b0-4e39-d966-f8432b95d272"
      },
      "source": [
        "investment"
      ],
      "execution_count": null,
      "outputs": [
        {
          "output_type": "execute_result",
          "data": {
            "text/plain": [
              "[540, 760, -200]"
            ]
          },
          "metadata": {
            "tags": []
          },
          "execution_count": 65
        }
      ]
    },
    {
      "cell_type": "code",
      "metadata": {
        "colab": {
          "base_uri": "https://localhost:8080/"
        },
        "id": "e0iTnA3KaBO3",
        "outputId": "285608e1-8458-4363-bb3e-401b688b4da6"
      },
      "source": [
        "portfolio"
      ],
      "execution_count": null,
      "outputs": [
        {
          "output_type": "execute_result",
          "data": {
            "text/plain": [
              "1"
            ]
          },
          "metadata": {
            "tags": []
          },
          "execution_count": 66
        }
      ]
    },
    {
      "cell_type": "code",
      "metadata": {
        "colab": {
          "base_uri": "https://localhost:8080/"
        },
        "id": "QdFSCot2aFxi",
        "outputId": "6c2f665c-837b-4f3a-b34c-b4ac94215731"
      },
      "source": [
        "money_end"
      ],
      "execution_count": null,
      "outputs": [
        {
          "output_type": "execute_result",
          "data": {
            "text/plain": [
              "1187.1"
            ]
          },
          "metadata": {
            "tags": []
          },
          "execution_count": 67
        }
      ]
    },
    {
      "cell_type": "code",
      "metadata": {
        "id": "oWG4_PxBaGo2"
      },
      "source": [
        "price = 540\n",
        "sell(1,price)"
      ],
      "execution_count": null,
      "outputs": []
    },
    {
      "cell_type": "code",
      "metadata": {
        "colab": {
          "base_uri": "https://localhost:8080/"
        },
        "id": "5tGb2PHZaOcR",
        "outputId": "0ed44a9b-bd80-466c-8347-3ed6685e9ae2"
      },
      "source": [
        "investment"
      ],
      "execution_count": null,
      "outputs": [
        {
          "output_type": "execute_result",
          "data": {
            "text/plain": [
              "[540, 760, -200, -740]"
            ]
          },
          "metadata": {
            "tags": []
          },
          "execution_count": 69
        }
      ]
    },
    {
      "cell_type": "code",
      "metadata": {
        "colab": {
          "base_uri": "https://localhost:8080/"
        },
        "id": "XqphA9JyaPMm",
        "outputId": "3d4d1d05-8d26-4419-ac9b-0d2a373dfd65"
      },
      "source": [
        "portfolio"
      ],
      "execution_count": null,
      "outputs": [
        {
          "output_type": "execute_result",
          "data": {
            "text/plain": [
              "0"
            ]
          },
          "metadata": {
            "tags": []
          },
          "execution_count": 70
        }
      ]
    },
    {
      "cell_type": "code",
      "metadata": {
        "colab": {
          "base_uri": "https://localhost:8080/"
        },
        "id": "TlkoYdCDaQyp",
        "outputId": "2d889235-e4aa-4cc9-ebd7-d82cc0584908"
      },
      "source": [
        "money_end"
      ],
      "execution_count": null,
      "outputs": [
        {
          "output_type": "execute_result",
          "data": {
            "text/plain": [
              "1723.05"
            ]
          },
          "metadata": {
            "tags": []
          },
          "execution_count": 71
        }
      ]
    },
    {
      "cell_type": "code",
      "metadata": {
        "colab": {
          "base_uri": "https://localhost:8080/"
        },
        "id": "cs0C2UIqaR8E",
        "outputId": "89052961-4c7f-4106-b15a-301fb30e410b"
      },
      "source": [
        "(money_end/amount-1)*100"
      ],
      "execution_count": null,
      "outputs": [
        {
          "output_type": "execute_result",
          "data": {
            "text/plain": [
              "72.30499999999999"
            ]
          },
          "metadata": {
            "tags": []
          },
          "execution_count": 72
        }
      ]
    },
    {
      "cell_type": "code",
      "metadata": {
        "id": "gwMoPnA1aYwG"
      },
      "source": [
        ""
      ],
      "execution_count": null,
      "outputs": []
    }
  ]
}