{
 "cells": [
  {
   "cell_type": "code",
   "execution_count": 1,
   "metadata": {},
   "outputs": [
    {
     "name": "stdout",
     "output_type": "stream",
     "text": [
      "Downloading day trading data for BTC USD from Bitstamp\n",
      "Filtering 0 empty datapoints\n"
     ]
    },
    {
     "name": "stderr",
     "output_type": "stream",
     "text": [
      "<ipython-input-1-aa143af81868>:26: FutureWarning: pandas.io.json.json_normalize is deprecated, use pandas.json_normalize instead\n",
      "  df = pd.io.json.json_normalize(data, ['Data'])\n"
     ]
    }
   ],
   "source": [
    "import requests\n",
    "from datetime import datetime\n",
    "import pandas as pd\n",
    "\n",
    "\n",
    "\n",
    "def download_data(from_symbol, to_symbol, exchange, datetime_interval):\n",
    "    supported_intervals = {'minute', 'hour', 'day'}\n",
    "    assert datetime_interval in supported_intervals,\\\n",
    "        'datetime_interval should be one of %s' % supported_intervals\n",
    "\n",
    "    print('Downloading %s trading data for %s %s from %s' %\n",
    "          (datetime_interval, from_symbol, to_symbol, exchange))\n",
    "    base_url = 'https://min-api.cryptocompare.com/data/histo'\n",
    "    url = '%s%s' % (base_url, datetime_interval)\n",
    "\n",
    "    params = {'fsym': from_symbol, 'tsym': to_symbol,\n",
    "              'limit': 2000, 'aggregate': 1,\n",
    "              'e': exchange}\n",
    "    request = requests.get(url, params=params)\n",
    "    data = request.json()\n",
    "    return data\n",
    "\n",
    "\n",
    "def convert_to_dataframe(data):\n",
    "    df = pd.io.json.json_normalize(data, ['Data'])\n",
    "    df['datetime'] = pd.to_datetime(df.time, unit='s')\n",
    "    df = df[['datetime', 'low', 'high', 'open',\n",
    "             'close', 'volumefrom', 'volumeto']]\n",
    "    return df\n",
    "\n",
    "\n",
    "def filter_empty_datapoints(df):\n",
    "    indices = df[df.sum(axis=1) == 0].index\n",
    "    print('Filtering %d empty datapoints' % indices.shape[0])\n",
    "    df = df.drop(indices)\n",
    "    return df\n",
    "\n",
    "from_symbol = 'BTC'\n",
    "to_symbol = 'USD'\n",
    "exchange = 'Bitstamp'\n",
    "datetime_interval = 'day'\n",
    "data = download_data(from_symbol, to_symbol, exchange, datetime_interval)\n",
    "df = convert_to_dataframe(data)\n",
    "df = filter_empty_datapoints(df)\n",
    "\n",
    "current_datetime = datetime.now().date().isoformat()\n",
    "df.index = df['datetime']"
   ]
  },
  {
   "cell_type": "code",
   "execution_count": 2,
   "metadata": {},
   "outputs": [
    {
     "data": {
      "text/html": [
       "<div>\n",
       "<style scoped>\n",
       "    .dataframe tbody tr th:only-of-type {\n",
       "        vertical-align: middle;\n",
       "    }\n",
       "\n",
       "    .dataframe tbody tr th {\n",
       "        vertical-align: top;\n",
       "    }\n",
       "\n",
       "    .dataframe thead th {\n",
       "        text-align: right;\n",
       "    }\n",
       "</style>\n",
       "<table border=\"1\" class=\"dataframe\">\n",
       "  <thead>\n",
       "    <tr style=\"text-align: right;\">\n",
       "      <th></th>\n",
       "      <th>datetime</th>\n",
       "      <th>low</th>\n",
       "      <th>high</th>\n",
       "      <th>open</th>\n",
       "      <th>close</th>\n",
       "      <th>volumefrom</th>\n",
       "      <th>volumeto</th>\n",
       "    </tr>\n",
       "    <tr>\n",
       "      <th>datetime</th>\n",
       "      <th></th>\n",
       "      <th></th>\n",
       "      <th></th>\n",
       "      <th></th>\n",
       "      <th></th>\n",
       "      <th></th>\n",
       "      <th></th>\n",
       "    </tr>\n",
       "  </thead>\n",
       "  <tbody>\n",
       "    <tr>\n",
       "      <th>2015-10-28</th>\n",
       "      <td>2015-10-28</td>\n",
       "      <td>294.40</td>\n",
       "      <td>308.48</td>\n",
       "      <td>295.59</td>\n",
       "      <td>304.05</td>\n",
       "      <td>30679.48</td>\n",
       "      <td>9258154.13</td>\n",
       "    </tr>\n",
       "    <tr>\n",
       "      <th>2015-10-29</th>\n",
       "      <td>2015-10-29</td>\n",
       "      <td>301.70</td>\n",
       "      <td>319.60</td>\n",
       "      <td>304.77</td>\n",
       "      <td>313.73</td>\n",
       "      <td>31657.38</td>\n",
       "      <td>9831879.91</td>\n",
       "    </tr>\n",
       "    <tr>\n",
       "      <th>2015-10-30</th>\n",
       "      <td>2015-10-30</td>\n",
       "      <td>313.50</td>\n",
       "      <td>334.05</td>\n",
       "      <td>314.95</td>\n",
       "      <td>328.78</td>\n",
       "      <td>38136.60</td>\n",
       "      <td>12367475.77</td>\n",
       "    </tr>\n",
       "    <tr>\n",
       "      <th>2015-10-31</th>\n",
       "      <td>2015-10-31</td>\n",
       "      <td>302.99</td>\n",
       "      <td>334.67</td>\n",
       "      <td>328.15</td>\n",
       "      <td>310.06</td>\n",
       "      <td>28649.04</td>\n",
       "      <td>9115142.28</td>\n",
       "    </tr>\n",
       "    <tr>\n",
       "      <th>2015-11-01</th>\n",
       "      <td>2015-11-01</td>\n",
       "      <td>303.01</td>\n",
       "      <td>329.85</td>\n",
       "      <td>309.30</td>\n",
       "      <td>328.98</td>\n",
       "      <td>14020.62</td>\n",
       "      <td>4435611.06</td>\n",
       "    </tr>\n",
       "  </tbody>\n",
       "</table>\n",
       "</div>"
      ],
      "text/plain": [
       "             datetime     low    high    open   close  volumefrom     volumeto\n",
       "datetime                                                                      \n",
       "2015-10-28 2015-10-28  294.40  308.48  295.59  304.05    30679.48   9258154.13\n",
       "2015-10-29 2015-10-29  301.70  319.60  304.77  313.73    31657.38   9831879.91\n",
       "2015-10-30 2015-10-30  313.50  334.05  314.95  328.78    38136.60  12367475.77\n",
       "2015-10-31 2015-10-31  302.99  334.67  328.15  310.06    28649.04   9115142.28\n",
       "2015-11-01 2015-11-01  303.01  329.85  309.30  328.98    14020.62   4435611.06"
      ]
     },
     "execution_count": 2,
     "metadata": {},
     "output_type": "execute_result"
    }
   ],
   "source": [
    "df.head()"
   ]
  },
  {
   "cell_type": "code",
   "execution_count": null,
   "metadata": {},
   "outputs": [],
   "source": []
  },
  {
   "cell_type": "code",
   "execution_count": 3,
   "metadata": {},
   "outputs": [],
   "source": [
    "# import pandas as pd\n",
    "# df = pd.read_csv(\"BTC-USD.csv\", index_col='Date')\n",
    "# df"
   ]
  },
  {
   "cell_type": "code",
   "execution_count": 4,
   "metadata": {},
   "outputs": [
    {
     "data": {
      "text/plain": [
       "<AxesSubplot:ylabel='datetime'>"
      ]
     },
     "execution_count": 4,
     "metadata": {},
     "output_type": "execute_result"
    },
    {
     "data": {
      "image/png": "[encoded data removed]",
      "text/plain": [
       "<Figure size 432x288 with 1 Axes>"
      ]
     },
     "metadata": {
      "needs_background": "light"
     },
     "output_type": "display_data"
    }
   ],
   "source": [
    "import seaborn as sns\n",
    "sns.heatmap(df.isnull(), cbar=False)"
   ]
  },
  {
   "cell_type": "code",
   "execution_count": 5,
   "metadata": {},
   "outputs": [
    {
     "data": {
      "text/plain": [
       "Series([], Name: close, dtype: float64)"
      ]
     },
     "execution_count": 5,
     "metadata": {},
     "output_type": "execute_result"
    }
   ],
   "source": [
    "df['close'][df['close'].isna()]"
   ]
  },
  {
   "cell_type": "code",
   "execution_count": 6,
   "metadata": {},
   "outputs": [
    {
     "data": {
      "text/plain": [
       "<AxesSubplot:ylabel='datetime'>"
      ]
     },
     "execution_count": 6,
     "metadata": {},
     "output_type": "execute_result"
    },
    {
     "data": {
      "image/png": "[encoded data removed]",
      "text/plain": [
       "<Figure size 432x288 with 1 Axes>"
      ]
     },
     "metadata": {
      "needs_background": "light"
     },
     "output_type": "display_data"
    }
   ],
   "source": [
    "sns.heatmap(df.loc[\"2020-10-02\":\"2020-10-16\"].isnull(), cbar=False)"
   ]
  },
  {
   "cell_type": "code",
   "execution_count": 7,
   "metadata": {},
   "outputs": [],
   "source": [
    "df = df.dropna(axis=0, how=\"any\")"
   ]
  },
  {
   "cell_type": "code",
   "execution_count": 8,
   "metadata": {},
   "outputs": [
    {
     "data": {
      "text/plain": [
       "<AxesSubplot:ylabel='datetime'>"
      ]
     },
     "execution_count": 8,
     "metadata": {},
     "output_type": "execute_result"
    },
    {
     "data": {
      "image/png": "[encoded data removed]",
      "text/plain": [
       "<Figure size 432x288 with 1 Axes>"
      ]
     },
     "metadata": {
      "needs_background": "light"
     },
     "output_type": "display_data"
    }
   ],
   "source": [
    "sns.heatmap(df.isnull(), cbar=False)"
   ]
  },
  {
   "cell_type": "code",
   "execution_count": 9,
   "metadata": {},
   "outputs": [
    {
     "data": {
      "text/plain": [
       "<AxesSubplot:xlabel='datetime'>"
      ]
     },
     "execution_count": 9,
     "metadata": {},
     "output_type": "execute_result"
    },
    {
     "data": {
      "image/png": "[encoded data removed]",
      "text/plain": [
       "<Figure size 432x288 with 1 Axes>"
      ]
     },
     "metadata": {
      "needs_background": "light"
     },
     "output_type": "display_data"
    }
   ],
   "source": [
    "df['close'].plot()"
   ]
  },
  {
   "cell_type": "code",
   "execution_count": 10,
   "metadata": {},
   "outputs": [
    {
     "data": {
      "text/plain": [
       "<AxesSubplot:xlabel='datetime'>"
      ]
     },
     "execution_count": 10,
     "metadata": {},
     "output_type": "execute_result"
    },
    {
     "data": {
      "image/png": "[encoded data removed]",
      "text/plain": [
       "<Figure size 432x288 with 1 Axes>"
      ]
     },
     "metadata": {
      "needs_background": "light"
     },
     "output_type": "display_data"
    }
   ],
   "source": [
    "df['close'][-1000:].plot()"
   ]
  },
  {
   "cell_type": "code",
   "execution_count": 11,
   "metadata": {},
   "outputs": [
    {
     "data": {
      "text/plain": [
       "<AxesSubplot:xlabel='datetime'>"
      ]
     },
     "execution_count": 11,
     "metadata": {},
     "output_type": "execute_result"
    },
    {
     "data": {
      "image/png": "[encoded data removed]",
      "text/plain": [
       "<Figure size 432x288 with 1 Axes>"
      ]
     },
     "metadata": {
      "needs_background": "light"
     },
     "output_type": "display_data"
    }
   ],
   "source": [
    "df['close'][-500:].plot()"
   ]
  },
  {
   "cell_type": "code",
   "execution_count": 12,
   "metadata": {},
   "outputs": [
    {
     "data": {
      "text/plain": [
       "<AxesSubplot:xlabel='datetime'>"
      ]
     },
     "execution_count": 12,
     "metadata": {},
     "output_type": "execute_result"
    },
    {
     "data": {
      "image/png": "[encoded data removed]",
      "text/plain": [
       "<Figure size 432x288 with 1 Axes>"
      ]
     },
     "metadata": {
      "needs_background": "light"
     },
     "output_type": "display_data"
    }
   ],
   "source": [
    "df['close'][-600:].plot()"
   ]
  },
  {
   "cell_type": "code",
   "execution_count": 74,
   "metadata": {},
   "outputs": [],
   "source": [
    "rahul = 600"
   ]
  },
  {
   "cell_type": "code",
   "execution_count": 75,
   "metadata": {},
   "outputs": [
    {
     "data": {
      "text/html": [
       "<div>\n",
       "<style scoped>\n",
       "    .dataframe tbody tr th:only-of-type {\n",
       "        vertical-align: middle;\n",
       "    }\n",
       "\n",
       "    .dataframe tbody tr th {\n",
       "        vertical-align: top;\n",
       "    }\n",
       "\n",
       "    .dataframe thead th {\n",
       "        text-align: right;\n",
       "    }\n",
       "</style>\n",
       "<table border=\"1\" class=\"dataframe\">\n",
       "  <thead>\n",
       "    <tr style=\"text-align: right;\">\n",
       "      <th></th>\n",
       "      <th>datetime</th>\n",
       "      <th>low</th>\n",
       "      <th>high</th>\n",
       "      <th>open</th>\n",
       "      <th>close</th>\n",
       "      <th>volumefrom</th>\n",
       "      <th>volumeto</th>\n",
       "    </tr>\n",
       "    <tr>\n",
       "      <th>datetime</th>\n",
       "      <th></th>\n",
       "      <th></th>\n",
       "      <th></th>\n",
       "      <th></th>\n",
       "      <th></th>\n",
       "      <th></th>\n",
       "      <th></th>\n",
       "    </tr>\n",
       "  </thead>\n",
       "  <tbody>\n",
       "    <tr>\n",
       "      <th>2019-08-29</th>\n",
       "      <td>2019-08-29</td>\n",
       "      <td>9320.00</td>\n",
       "      <td>9720.20</td>\n",
       "      <td>9711.78</td>\n",
       "      <td>9490.00</td>\n",
       "      <td>7717.11</td>\n",
       "      <td>73190665.17</td>\n",
       "    </tr>\n",
       "    <tr>\n",
       "      <th>2019-08-30</th>\n",
       "      <td>2019-08-30</td>\n",
       "      <td>9350.10</td>\n",
       "      <td>9700.00</td>\n",
       "      <td>9490.00</td>\n",
       "      <td>9579.75</td>\n",
       "      <td>5317.31</td>\n",
       "      <td>50745922.28</td>\n",
       "    </tr>\n",
       "    <tr>\n",
       "      <th>2019-08-31</th>\n",
       "      <td>2019-08-31</td>\n",
       "      <td>9443.19</td>\n",
       "      <td>9682.73</td>\n",
       "      <td>9579.75</td>\n",
       "      <td>9594.15</td>\n",
       "      <td>1572.16</td>\n",
       "      <td>15068565.55</td>\n",
       "    </tr>\n",
       "    <tr>\n",
       "      <th>2019-09-01</th>\n",
       "      <td>2019-09-01</td>\n",
       "      <td>9538.75</td>\n",
       "      <td>9832.00</td>\n",
       "      <td>9594.15</td>\n",
       "      <td>9767.53</td>\n",
       "      <td>1799.37</td>\n",
       "      <td>17385154.88</td>\n",
       "    </tr>\n",
       "    <tr>\n",
       "      <th>2019-09-02</th>\n",
       "      <td>2019-09-02</td>\n",
       "      <td>9753.24</td>\n",
       "      <td>10471.00</td>\n",
       "      <td>9767.53</td>\n",
       "      <td>10384.48</td>\n",
       "      <td>6144.80</td>\n",
       "      <td>62231973.86</td>\n",
       "    </tr>\n",
       "  </tbody>\n",
       "</table>\n",
       "</div>"
      ],
      "text/plain": [
       "             datetime      low      high     open     close  volumefrom  \\\n",
       "datetime                                                                  \n",
       "2019-08-29 2019-08-29  9320.00   9720.20  9711.78   9490.00     7717.11   \n",
       "2019-08-30 2019-08-30  9350.10   9700.00  9490.00   9579.75     5317.31   \n",
       "2019-08-31 2019-08-31  9443.19   9682.73  9579.75   9594.15     1572.16   \n",
       "2019-09-01 2019-09-01  9538.75   9832.00  9594.15   9767.53     1799.37   \n",
       "2019-09-02 2019-09-02  9753.24  10471.00  9767.53  10384.48     6144.80   \n",
       "\n",
       "               volumeto  \n",
       "datetime                 \n",
       "2019-08-29  73190665.17  \n",
       "2019-08-30  50745922.28  \n",
       "2019-08-31  15068565.55  \n",
       "2019-09-01  17385154.88  \n",
       "2019-09-02  62231973.86  "
      ]
     },
     "execution_count": 75,
     "metadata": {},
     "output_type": "execute_result"
    }
   ],
   "source": [
    "df_d = df[-rahul:].copy()\n",
    "# df_d = df.copy()\n",
    "df_d.head()"
   ]
  },
  {
   "cell_type": "code",
   "execution_count": 76,
   "metadata": {},
   "outputs": [
    {
     "data": {
      "text/html": [
       "<div>\n",
       "<style scoped>\n",
       "    .dataframe tbody tr th:only-of-type {\n",
       "        vertical-align: middle;\n",
       "    }\n",
       "\n",
       "    .dataframe tbody tr th {\n",
       "        vertical-align: top;\n",
       "    }\n",
       "\n",
       "    .dataframe thead th {\n",
       "        text-align: right;\n",
       "    }\n",
       "</style>\n",
       "<table border=\"1\" class=\"dataframe\">\n",
       "  <thead>\n",
       "    <tr style=\"text-align: right;\">\n",
       "      <th></th>\n",
       "      <th>datetime</th>\n",
       "      <th>low</th>\n",
       "      <th>high</th>\n",
       "      <th>open</th>\n",
       "      <th>close</th>\n",
       "      <th>volumefrom</th>\n",
       "      <th>volumeto</th>\n",
       "    </tr>\n",
       "    <tr>\n",
       "      <th>datetime</th>\n",
       "      <th></th>\n",
       "      <th></th>\n",
       "      <th></th>\n",
       "      <th></th>\n",
       "      <th></th>\n",
       "      <th></th>\n",
       "      <th></th>\n",
       "    </tr>\n",
       "  </thead>\n",
       "  <tbody>\n",
       "    <tr>\n",
       "      <th>2021-04-15</th>\n",
       "      <td>2021-04-15</td>\n",
       "      <td>61998.90</td>\n",
       "      <td>63855.37</td>\n",
       "      <td>62986.09</td>\n",
       "      <td>63239.19</td>\n",
       "      <td>3433.45</td>\n",
       "      <td>2.161317e+08</td>\n",
       "    </tr>\n",
       "    <tr>\n",
       "      <th>2021-04-16</th>\n",
       "      <td>2021-04-16</td>\n",
       "      <td>60042.04</td>\n",
       "      <td>63580.40</td>\n",
       "      <td>63239.19</td>\n",
       "      <td>61436.24</td>\n",
       "      <td>5778.82</td>\n",
       "      <td>3.552687e+08</td>\n",
       "    </tr>\n",
       "    <tr>\n",
       "      <th>2021-04-17</th>\n",
       "      <td>2021-04-17</td>\n",
       "      <td>59676.67</td>\n",
       "      <td>62596.48</td>\n",
       "      <td>61436.24</td>\n",
       "      <td>60032.29</td>\n",
       "      <td>3091.48</td>\n",
       "      <td>1.889280e+08</td>\n",
       "    </tr>\n",
       "    <tr>\n",
       "      <th>2021-04-18</th>\n",
       "      <td>2021-04-18</td>\n",
       "      <td>51541.16</td>\n",
       "      <td>60433.81</td>\n",
       "      <td>60032.29</td>\n",
       "      <td>56280.60</td>\n",
       "      <td>12869.86</td>\n",
       "      <td>7.152348e+08</td>\n",
       "    </tr>\n",
       "    <tr>\n",
       "      <th>2021-04-19</th>\n",
       "      <td>2021-04-19</td>\n",
       "      <td>55826.85</td>\n",
       "      <td>57633.00</td>\n",
       "      <td>56280.60</td>\n",
       "      <td>56581.90</td>\n",
       "      <td>2491.76</td>\n",
       "      <td>1.419457e+08</td>\n",
       "    </tr>\n",
       "  </tbody>\n",
       "</table>\n",
       "</div>"
      ],
      "text/plain": [
       "             datetime       low      high      open     close  volumefrom  \\\n",
       "datetime                                                                    \n",
       "2021-04-15 2021-04-15  61998.90  63855.37  62986.09  63239.19     3433.45   \n",
       "2021-04-16 2021-04-16  60042.04  63580.40  63239.19  61436.24     5778.82   \n",
       "2021-04-17 2021-04-17  59676.67  62596.48  61436.24  60032.29     3091.48   \n",
       "2021-04-18 2021-04-18  51541.16  60433.81  60032.29  56280.60    12869.86   \n",
       "2021-04-19 2021-04-19  55826.85  57633.00  56280.60  56581.90     2491.76   \n",
       "\n",
       "                volumeto  \n",
       "datetime                  \n",
       "2021-04-15  2.161317e+08  \n",
       "2021-04-16  3.552687e+08  \n",
       "2021-04-17  1.889280e+08  \n",
       "2021-04-18  7.152348e+08  \n",
       "2021-04-19  1.419457e+08  "
      ]
     },
     "execution_count": 76,
     "metadata": {},
     "output_type": "execute_result"
    }
   ],
   "source": [
    "df_d.tail()"
   ]
  },
  {
   "cell_type": "code",
   "execution_count": 77,
   "metadata": {},
   "outputs": [
    {
     "data": {
      "text/plain": [
       "600"
      ]
     },
     "execution_count": 77,
     "metadata": {},
     "output_type": "execute_result"
    }
   ],
   "source": [
    "len(df_d)"
   ]
  },
  {
   "cell_type": "code",
   "execution_count": 78,
   "metadata": {},
   "outputs": [],
   "source": [
    "# df_d2 = pd.DataFrame(data=df_d['Close'], index=df_d.index)\n",
    "# for i in range(len(df['Close'])):\n",
    "#     df_d2['Close'][i] = df_d['Close'][i]\n",
    "# df_d2\n",
    "df_d = pd.DataFrame(df_d['close'])"
   ]
  },
  {
   "cell_type": "code",
   "execution_count": 79,
   "metadata": {},
   "outputs": [
    {
     "data": {
      "text/html": [
       "<div>\n",
       "<style scoped>\n",
       "    .dataframe tbody tr th:only-of-type {\n",
       "        vertical-align: middle;\n",
       "    }\n",
       "\n",
       "    .dataframe tbody tr th {\n",
       "        vertical-align: top;\n",
       "    }\n",
       "\n",
       "    .dataframe thead th {\n",
       "        text-align: right;\n",
       "    }\n",
       "</style>\n",
       "<table border=\"1\" class=\"dataframe\">\n",
       "  <thead>\n",
       "    <tr style=\"text-align: right;\">\n",
       "      <th></th>\n",
       "      <th>close</th>\n",
       "    </tr>\n",
       "    <tr>\n",
       "      <th>datetime</th>\n",
       "      <th></th>\n",
       "    </tr>\n",
       "  </thead>\n",
       "  <tbody>\n",
       "    <tr>\n",
       "      <th>2019-08-29</th>\n",
       "      <td>9490.00</td>\n",
       "    </tr>\n",
       "    <tr>\n",
       "      <th>2019-08-30</th>\n",
       "      <td>9579.75</td>\n",
       "    </tr>\n",
       "    <tr>\n",
       "      <th>2019-08-31</th>\n",
       "      <td>9594.15</td>\n",
       "    </tr>\n",
       "    <tr>\n",
       "      <th>2019-09-01</th>\n",
       "      <td>9767.53</td>\n",
       "    </tr>\n",
       "    <tr>\n",
       "      <th>2019-09-02</th>\n",
       "      <td>10384.48</td>\n",
       "    </tr>\n",
       "  </tbody>\n",
       "</table>\n",
       "</div>"
      ],
      "text/plain": [
       "               close\n",
       "datetime            \n",
       "2019-08-29   9490.00\n",
       "2019-08-30   9579.75\n",
       "2019-08-31   9594.15\n",
       "2019-09-01   9767.53\n",
       "2019-09-02  10384.48"
      ]
     },
     "execution_count": 79,
     "metadata": {},
     "output_type": "execute_result"
    }
   ],
   "source": [
    "df_d.head()"
   ]
  },
  {
   "cell_type": "code",
   "execution_count": 80,
   "metadata": {},
   "outputs": [
    {
     "data": {
      "text/plain": [
       "[]"
      ]
     },
     "execution_count": 80,
     "metadata": {},
     "output_type": "execute_result"
    },
    {
     "data": {
      "image/png": "[encoded data removed]",
      "text/plain": [
       "<Figure size 432x288 with 1 Axes>"
      ]
     },
     "metadata": {
      "needs_background": "light"
     },
     "output_type": "display_data"
    }
   ],
   "source": [
    "import matplotlib.pyplot as plt\n",
    "df_d.plot()\n",
    "plt.xticks(rotation=90)\n",
    "plt.plot()"
   ]
  },
  {
   "cell_type": "code",
   "execution_count": 81,
   "metadata": {},
   "outputs": [
    {
     "data": {
      "text/plain": [
       "[]"
      ]
     },
     "execution_count": 81,
     "metadata": {},
     "output_type": "execute_result"
    },
    {
     "data": {
      "text/plain": [
       "<Figure size 1152x576 with 0 Axes>"
      ]
     },
     "metadata": {},
     "output_type": "display_data"
    },
    {
     "data": {
      "image/png": "[encoded data removed]",
      "text/plain": [
       "<Figure size 432x288 with 1 Axes>"
      ]
     },
     "metadata": {
      "needs_background": "light"
     },
     "output_type": "display_data"
    }
   ],
   "source": [
    "\n",
    "plt.figure(figsize=(16,8))\n",
    "df_d = df_d.sort_index(axis=0)\n",
    "df_d.plot()\n",
    "plt.xticks(rotation=90)\n",
    "plt.plot()"
   ]
  },
  {
   "cell_type": "code",
   "execution_count": 82,
   "metadata": {},
   "outputs": [],
   "source": [
    "import matplotlib.pyplot as plt"
   ]
  },
  {
   "cell_type": "code",
   "execution_count": 83,
   "metadata": {},
   "outputs": [
    {
     "data": {
      "text/plain": [
       "[]"
      ]
     },
     "execution_count": 83,
     "metadata": {},
     "output_type": "execute_result"
    },
    {
     "data": {
      "text/plain": [
       "<Figure size 1152x576 with 0 Axes>"
      ]
     },
     "metadata": {},
     "output_type": "display_data"
    },
    {
     "data": {
      "image/png": "[encoded data removed]",
      "text/plain": [
       "<Figure size 432x288 with 1 Axes>"
      ]
     },
     "metadata": {
      "needs_background": "light"
     },
     "output_type": "display_data"
    }
   ],
   "source": [
    "plt.figure(figsize=(16,8))\n",
    "df_d = df_d.sort_index(axis=0)\n",
    "df_d.plot()\n",
    "# plt.xticks([x for x in range(220,270,5)])\n",
    "plt.xticks(rotation=90)\n",
    "plt.grid()\n",
    "plt.plot()"
   ]
  },
  {
   "cell_type": "code",
   "execution_count": null,
   "metadata": {},
   "outputs": [],
   "source": []
  },
  {
   "cell_type": "code",
   "execution_count": 84,
   "metadata": {},
   "outputs": [],
   "source": [
    "# df1=df.reset_index()['close']"
   ]
  },
  {
   "cell_type": "code",
   "execution_count": 85,
   "metadata": {},
   "outputs": [],
   "source": [
    "# df1"
   ]
  },
  {
   "cell_type": "code",
   "execution_count": 86,
   "metadata": {},
   "outputs": [],
   "source": [
    "# import matplotlib.pyplot as plt\n",
    "# plt.plot(df_d)"
   ]
  },
  {
   "cell_type": "code",
   "execution_count": 87,
   "metadata": {},
   "outputs": [],
   "source": [
    "### LSTM are sensitive to the scale of the data. so we apply MinMax scaler "
   ]
  },
  {
   "cell_type": "code",
   "execution_count": 88,
   "metadata": {},
   "outputs": [],
   "source": [
    "import numpy as np"
   ]
  },
  {
   "cell_type": "code",
   "execution_count": 89,
   "metadata": {},
   "outputs": [
    {
     "data": {
      "text/plain": [
       "(600, 1)"
      ]
     },
     "execution_count": 89,
     "metadata": {},
     "output_type": "execute_result"
    }
   ],
   "source": [
    "df_d.shape"
   ]
  },
  {
   "cell_type": "code",
   "execution_count": 90,
   "metadata": {},
   "outputs": [
    {
     "data": {
      "text/plain": [
       "(600, 1)"
      ]
     },
     "execution_count": 90,
     "metadata": {},
     "output_type": "execute_result"
    }
   ],
   "source": [
    "from sklearn.preprocessing import MinMaxScaler\n",
    "scaler=MinMaxScaler(feature_range=(0,1))\n",
    "df_d=scaler.fit_transform(np.array(df_d).reshape(-1,1))\n",
    "df_d.shape"
   ]
  },
  {
   "cell_type": "code",
   "execution_count": 91,
   "metadata": {},
   "outputs": [
    {
     "name": "stdout",
     "output_type": "stream",
     "text": [
      "[[0.07915715]\n",
      " [0.08068551]\n",
      " [0.08093073]\n",
      " [0.08388325]\n",
      " [0.09438939]\n",
      " [0.09835939]\n",
      " [0.09782553]\n",
      " [0.09761096]\n",
      " [0.09313962]\n",
      " [0.09609077]\n",
      " [0.09465674]\n",
      " [0.09307763]\n",
      " [0.08947681]\n",
      " [0.09047234]\n",
      " [0.09500005]\n",
      " [0.09411981]\n",
      " [0.09389367]\n",
      " [0.09304851]\n",
      " [0.09243955]\n",
      " [0.09117513]\n",
      " [0.09043198]\n",
      " [0.09246594]\n",
      " [0.09072028]\n",
      " [0.08759135]\n",
      " [0.08819248]\n",
      " [0.08242998]\n",
      " [0.06292529]\n",
      " [0.06114302]\n",
      " [0.05472081]\n",
      " [0.05698041]\n",
      " [0.05749725]\n",
      " [0.05459429]\n",
      " [0.05886605]\n",
      " [0.05921617]\n",
      " [0.06014273]\n",
      " [0.05786934]\n",
      " [0.05637332]\n",
      " [0.05625582]\n",
      " [0.05129949]\n",
      " [0.0572837 ]\n",
      " [0.05682409]\n",
      " [0.06376858]\n",
      " [0.06369654]\n",
      " [0.05830579]\n",
      " [0.05895086]\n",
      " [0.05860227]\n",
      " [0.05996511]\n",
      " [0.05642543]\n",
      " [0.05371371]\n",
      " [0.05503228]\n",
      " [0.05301875]\n",
      " [0.05311088]\n",
      " [0.05779815]\n",
      " [0.05742198]\n",
      " [0.05422476]\n",
      " [0.04477136]\n",
      " [0.04416223]\n",
      " [0.06506824]\n",
      " [0.07511698]\n",
      " [0.08029946]\n",
      " [0.07449865]\n",
      " [0.07808329]\n",
      " [0.0735365 ]\n",
      " [0.07336842]\n",
      " [0.07507781]\n",
      " [0.07600249]\n",
      " [0.07433789]\n",
      " [0.07780775]\n",
      " [0.07626457]\n",
      " [0.07668417]\n",
      " [0.07420779]\n",
      " [0.06685136]\n",
      " [0.06761495]\n",
      " [0.0712299 ]\n",
      " [0.06605082]\n",
      " [0.0676439 ]\n",
      " [0.0666448 ]\n",
      " [0.06462957]\n",
      " [0.06167654]\n",
      " [0.06203654]\n",
      " [0.06228653]\n",
      " [0.05668973]\n",
      " [0.05585496]\n",
      " [0.05528976]\n",
      " [0.04716804]\n",
      " [0.04162233]\n",
      " [0.04221051]\n",
      " [0.03519399]\n",
      " [0.03883448]\n",
      " [0.03946592]\n",
      " [0.04574321]\n",
      " [0.04419152]\n",
      " [0.04958925]\n",
      " [0.04613199]\n",
      " [0.04378179]\n",
      " [0.04202745]\n",
      " [0.04187061]\n",
      " [0.04012257]\n",
      " [0.04340307]\n",
      " [0.04598077]\n",
      " [0.04531425]\n",
      " [0.04568225]\n",
      " [0.04255331]\n",
      " [0.04043403]\n",
      " [0.04028673]\n",
      " [0.03996318]\n",
      " [0.04113904]\n",
      " [0.03775977]\n",
      " [0.03871426]\n",
      " [0.03474834]\n",
      " [0.03015234]\n",
      " [0.04164038]\n",
      " [0.03930159]\n",
      " [0.04006007]\n",
      " [0.03926464]\n",
      " [0.0454343 ]\n",
      " [0.04213865]\n",
      " [0.04103772]\n",
      " [0.04008868]\n",
      " [0.03996113]\n",
      " [0.04094372]\n",
      " [0.04179926]\n",
      " [0.04331996]\n",
      " [0.04050504]\n",
      " [0.03962157]\n",
      " [0.03979731]\n",
      " [0.03591262]\n",
      " [0.04252589]\n",
      " [0.04262075]\n",
      " [0.04282884]\n",
      " [0.04974336]\n",
      " [0.05649151]\n",
      " [0.05454048]\n",
      " [0.05049333]\n",
      " [0.05718953]\n",
      " [0.05405991]\n",
      " [0.05686189]\n",
      " [0.05557193]\n",
      " [0.06762909]\n",
      " [0.06756318]\n",
      " [0.06587696]\n",
      " [0.06898444]\n",
      " [0.0692552 ]\n",
      " [0.06564621]\n",
      " [0.06442982]\n",
      " [0.06600876]\n",
      " [0.06495364]\n",
      " [0.06022821]\n",
      " [0.06097222]\n",
      " [0.05939481]\n",
      " [0.06383908]\n",
      " [0.06901696]\n",
      " [0.07762452]\n",
      " [0.07573735]\n",
      " [0.07932744]\n",
      " [0.07639587]\n",
      " [0.07723575]\n",
      " [0.07642209]\n",
      " [0.07571879]\n",
      " [0.07352679]\n",
      " [0.08134403]\n",
      " [0.08366357]\n",
      " [0.08449442]\n",
      " [0.08617316]\n",
      " [0.09080458]\n",
      " [0.08528781]\n",
      " [0.09242252]\n",
      " [0.09378145]\n",
      " [0.09173607]\n",
      " [0.09404131]\n",
      " [0.08613535]\n",
      " [0.08635861]\n",
      " [0.08268474]\n",
      " [0.0909953 ]\n",
      " [0.08095747]\n",
      " [0.08124764]\n",
      " [0.08266737]\n",
      " [0.08219055]\n",
      " [0.08724957]\n",
      " [0.08192575]\n",
      " [0.07601356]\n",
      " [0.06705554]\n",
      " [0.06768801]\n",
      " [0.0657695 ]\n",
      " [0.06277067]\n",
      " [0.06279127]\n",
      " [0.06940523]\n",
      " [0.06664838]\n",
      " [0.06661142]\n",
      " [0.07194785]\n",
      " [0.07343177]\n",
      " [0.06900658]\n",
      " [0.05435758]\n",
      " [0.05269809]\n",
      " [0.05184101]\n",
      " [0.05266948]\n",
      " [0.        ]\n",
      " [0.01330096]\n",
      " [0.00558046]\n",
      " [0.00854813]\n",
      " [0.00326534]\n",
      " [0.00823053]\n",
      " [0.00962573]\n",
      " [0.02281073]\n",
      " [0.02330389]\n",
      " [0.02292312]\n",
      " [0.01654349]\n",
      " [0.02812944]\n",
      " [0.03281468]\n",
      " [0.03151331]\n",
      " [0.03267981]\n",
      " [0.02612886]\n",
      " [0.02403512]\n",
      " [0.01752692]\n",
      " [0.02666936]\n",
      " [0.02689704]\n",
      " [0.03082959]\n",
      " [0.0333826 ]\n",
      " [0.03237073]\n",
      " [0.0347044 ]\n",
      " [0.03292639]\n",
      " [0.04275613]\n",
      " [0.04020686]\n",
      " [0.04301037]\n",
      " [0.04175992]\n",
      " [0.03466047]\n",
      " [0.0347652 ]\n",
      " [0.03519195]\n",
      " [0.03444232]\n",
      " [0.03470679]\n",
      " [0.03026643]\n",
      " [0.03865619]\n",
      " [0.03716648]\n",
      " [0.04122061]\n",
      " [0.03890703]\n",
      " [0.03404691]\n",
      " [0.03428497]\n",
      " [0.03910099]\n",
      " [0.04500653]\n",
      " [0.04536329]\n",
      " [0.04607903]\n",
      " [0.04870441]\n",
      " [0.05014644]\n",
      " [0.04982936]\n",
      " [0.06724218]\n",
      " [0.06446643]\n",
      " [0.06795945]\n",
      " [0.07053682]\n",
      " [0.06938207]\n",
      " [0.06881823]\n",
      " [0.07140632]\n",
      " [0.0734408 ]\n",
      " [0.08784202]\n",
      " [0.08445917]\n",
      " [0.08012031]\n",
      " [0.06623491]\n",
      " [0.06352404]\n",
      " [0.06784059]\n",
      " [0.07618556]\n",
      " [0.08432549]\n",
      " [0.07602736]\n",
      " [0.07743839]\n",
      " [0.08214917]\n",
      " [0.08310638]\n",
      " [0.08422587]\n",
      " [0.07960859]\n",
      " [0.07187667]\n",
      " [0.07374119]\n",
      " [0.07393703]\n",
      " [0.06602375]\n",
      " [0.06917057]\n",
      " [0.06810369]\n",
      " [0.07438898]\n",
      " [0.08064515]\n",
      " [0.07798281]\n",
      " [0.08282012]\n",
      " [0.07841365]\n",
      " [0.09130983]\n",
      " [0.0797656 ]\n",
      " [0.08207918]\n",
      " [0.08429859]\n",
      " [0.08137077]\n",
      " [0.08221984]\n",
      " [0.08358541]\n",
      " [0.08414669]\n",
      " [0.08404179]\n",
      " [0.08604237]\n",
      " [0.07531298]\n",
      " [0.07869855]\n",
      " [0.07887548]\n",
      " [0.07643231]\n",
      " [0.0782231 ]\n",
      " [0.07984342]\n",
      " [0.07866824]\n",
      " [0.07719505]\n",
      " [0.07599517]\n",
      " [0.07686604]\n",
      " [0.07563262]\n",
      " [0.08244582]\n",
      " [0.08141879]\n",
      " [0.07568422]\n",
      " [0.074891  ]\n",
      " [0.07350789]\n",
      " [0.07097123]\n",
      " [0.07282247]\n",
      " [0.07402933]\n",
      " [0.07307705]\n",
      " [0.07478712]\n",
      " [0.07239521]\n",
      " [0.07188706]\n",
      " [0.07317174]\n",
      " [0.07212104]\n",
      " [0.07674275]\n",
      " [0.07519208]\n",
      " [0.07825732]\n",
      " [0.07481301]\n",
      " [0.07564114]\n",
      " [0.07487091]\n",
      " [0.07602668]\n",
      " [0.07478235]\n",
      " [0.07509722]\n",
      " [0.07404959]\n",
      " [0.07307552]\n",
      " [0.07347792]\n",
      " [0.07383434]\n",
      " [0.07442287]\n",
      " [0.0735789 ]\n",
      " [0.07747552]\n",
      " [0.08000026]\n",
      " [0.08132325]\n",
      " [0.0801433 ]\n",
      " [0.08292025]\n",
      " [0.08689945]\n",
      " [0.10565775]\n",
      " [0.10383699]\n",
      " [0.10676431]\n",
      " [0.10678048]\n",
      " [0.11094616]\n",
      " [0.11879234]\n",
      " [0.10609148]\n",
      " [0.1088967 ]\n",
      " [0.10814792]\n",
      " [0.11773227]\n",
      " [0.11798499]\n",
      " [0.11510314]\n",
      " [0.11810113]\n",
      " [0.1165026 ]\n",
      " [0.12011431]\n",
      " [0.1115575 ]\n",
      " [0.11449861]\n",
      " [0.11837972]\n",
      " [0.11815   ]\n",
      " [0.11938342]\n",
      " [0.12043616]\n",
      " [0.12698149]\n",
      " [0.12118681]\n",
      " [0.11777161]\n",
      " [0.11950552]\n",
      " [0.11392626]\n",
      " [0.11624154]\n",
      " [0.11584902]\n",
      " [0.11784399]\n",
      " [0.11047172]\n",
      " [0.11286296]\n",
      " [0.1104908 ]\n",
      " [0.11400868]\n",
      " [0.112904  ]\n",
      " [0.11694434]\n",
      " [0.11602527]\n",
      " [0.12060543]\n",
      " [0.11165627]\n",
      " [0.09056668]\n",
      " [0.09561276]\n",
      " [0.09068912]\n",
      " [0.09227249]\n",
      " [0.09426439]\n",
      " [0.08995295]\n",
      " [0.0918064 ]\n",
      " [0.09367603]\n",
      " [0.09453516]\n",
      " [0.09539155]\n",
      " [0.09354304]\n",
      " [0.09933925]\n",
      " [0.10118998]\n",
      " [0.10404594]\n",
      " [0.10385743]\n",
      " [0.10369957]\n",
      " [0.10618617]\n",
      " [0.10356844]\n",
      " [0.09484594]\n",
      " [0.09694087]\n",
      " [0.09181696]\n",
      " [0.10051205]\n",
      " [0.0995889 ]\n",
      " [0.1002578 ]\n",
      " [0.101136  ]\n",
      " [0.09958328]\n",
      " [0.10208554]\n",
      " [0.10109445]\n",
      " [0.09844624]\n",
      " [0.09769406]\n",
      " [0.09727038]\n",
      " [0.09924525]\n",
      " [0.1013802 ]\n",
      " [0.09816731]\n",
      " [0.09923691]\n",
      " [0.10359739]\n",
      " [0.10575669]\n",
      " [0.11000036]\n",
      " [0.11122186]\n",
      " [0.11399846]\n",
      " [0.11215931]\n",
      " [0.11217396]\n",
      " [0.11357495]\n",
      " [0.11035218]\n",
      " [0.11110044]\n",
      " [0.11372582]\n",
      " [0.11788383]\n",
      " [0.1205569 ]\n",
      " [0.13556913]\n",
      " [0.13864442]\n",
      " [0.13793482]\n",
      " [0.14101948]\n",
      " [0.13959516]\n",
      " [0.14006584]\n",
      " [0.14996268]\n",
      " [0.14360791]\n",
      " [0.14690663]\n",
      " [0.14850209]\n",
      " [0.15282664]\n",
      " [0.15190571]\n",
      " [0.14852917]\n",
      " [0.15666672]\n",
      " [0.15869336]\n",
      " [0.18329113]\n",
      " [0.18317277]\n",
      " [0.1702456 ]\n",
      " [0.18131762]\n",
      " [0.17864217]\n",
      " [0.178329  ]\n",
      " [0.18504258]\n",
      " [0.19512571]\n",
      " [0.19573161]\n",
      " [0.19148726]\n",
      " [0.18959958]\n",
      " [0.20235663]\n",
      " [0.21863668]\n",
      " [0.22043019]\n",
      " [0.22110318]\n",
      " [0.23578538]\n",
      " [0.23642142]\n",
      " [0.23148637]\n",
      " [0.23060341]\n",
      " [0.24384358]\n",
      " [0.23654794]\n",
      " [0.20977232]\n",
      " [0.20967525]\n",
      " [0.21967818]\n",
      " [0.22734539]\n",
      " [0.25302808]\n",
      " [0.23721208]\n",
      " [0.24496239]\n",
      " [0.24874031]\n",
      " [0.23554884]\n",
      " [0.24386588]\n",
      " [0.24758539]\n",
      " [0.244059  ]\n",
      " [0.22946381]\n",
      " [0.23355439]\n",
      " [0.22833768]\n",
      " [0.22475679]\n",
      " [0.23796477]\n",
      " [0.24386929]\n",
      " [0.24577605]\n",
      " [0.24850991]\n",
      " [0.28139031]\n",
      " [0.30605773]\n",
      " [0.31153942]\n",
      " [0.32357648]\n",
      " [0.31723925]\n",
      " [0.30465742]\n",
      " [0.32344212]\n",
      " [0.31343936]\n",
      " [0.321589  ]\n",
      " [0.33825834]\n",
      " [0.3682489 ]\n",
      " [0.36472931]\n",
      " [0.37798327]\n",
      " [0.38363849]\n",
      " [0.40937465]\n",
      " [0.41127323]\n",
      " [0.41825263]\n",
      " [0.46617081]\n",
      " [0.48117861]\n",
      " [0.46258362]\n",
      " [0.49720679]\n",
      " [0.54507388]\n",
      " [0.59038081]\n",
      " [0.61007639]\n",
      " [0.60278774]\n",
      " [0.56761691]\n",
      " [0.52132911]\n",
      " [0.49713816]\n",
      " [0.55433008]\n",
      " [0.58397546]\n",
      " [0.54348387]\n",
      " [0.53060012]\n",
      " [0.5275221 ]\n",
      " [0.54110626]\n",
      " [0.52919726]\n",
      " [0.52203292]\n",
      " [0.44235809]\n",
      " [0.47937743]\n",
      " [0.46448424]\n",
      " [0.46740202]\n",
      " [0.46693184]\n",
      " [0.47107521]\n",
      " [0.43565609]\n",
      " [0.48776957]\n",
      " [0.50079296]\n",
      " [0.50204222]\n",
      " [0.48192023]\n",
      " [0.48858476]\n",
      " [0.52246291]\n",
      " [0.55940715]\n",
      " [0.54756661]\n",
      " [0.57010777]\n",
      " [0.58649152]\n",
      " [0.57927609]\n",
      " [0.70798349]\n",
      " [0.70949483]\n",
      " [0.68138701]\n",
      " [0.73463463]\n",
      " [0.72466168]\n",
      " [0.72181168]\n",
      " [0.74623183]\n",
      " [0.73397203]\n",
      " [0.75481504]\n",
      " [0.80603449]\n",
      " [0.79590657]\n",
      " [0.8709888 ]\n",
      " [0.87009409]\n",
      " [0.89660628]\n",
      " [0.84008207]\n",
      " [0.75007071]\n",
      " [0.76481916]\n",
      " [0.7194293 ]\n",
      " [0.70625299]\n",
      " [0.70276456]\n",
      " [0.68796589]\n",
      " [0.76269613]\n",
      " [0.74374302]\n",
      " [0.77547396]\n",
      " [0.74108902]\n",
      " [0.74753814]\n",
      " [0.7503551 ]\n",
      " [0.78548063]\n",
      " [0.81035172]\n",
      " [0.85294539]\n",
      " [0.8686679 ]\n",
      " [0.90136048]\n",
      " [0.89282802]\n",
      " [0.95914211]\n",
      " [0.92254986]\n",
      " [0.8651272 ]\n",
      " [0.88665154]\n",
      " [0.92059849]\n",
      " [0.89924818]\n",
      " [0.90646769]\n",
      " [0.90759826]\n",
      " [0.894714  ]\n",
      " [0.83833267]\n",
      " [0.84328219]\n",
      " [0.80796287]\n",
      " [0.79159087]\n",
      " [0.85553978]\n",
      " [0.86844873]\n",
      " [0.86762282]\n",
      " [0.89843163]\n",
      " [0.9181938 ]\n",
      " [0.91856827]\n",
      " [0.91764784]\n",
      " [0.92233205]\n",
      " [0.88930945]\n",
      " [0.90885484]\n",
      " [0.92439939]\n",
      " [0.90555323]\n",
      " [0.87003943]\n",
      " [0.90688661]\n",
      " [0.90710731]\n",
      " [0.93533092]\n",
      " [0.93894672]\n",
      " [0.93643322]\n",
      " [1.        ]\n",
      " [0.99015051]\n",
      " [0.99446059]\n",
      " [0.96375787]\n",
      " [0.93984978]\n",
      " [0.87596166]\n",
      " [0.88109254]]\n"
     ]
    }
   ],
   "source": [
    "print(df_d)"
   ]
  },
  {
   "cell_type": "code",
   "execution_count": 195,
   "metadata": {},
   "outputs": [],
   "source": [
    "##splitting dataset into train and test split\n",
    "training_size=int(len(df_d)*0.90)\n",
    "test_size=len(df_d)-training_size\n",
    "train_data,test_data=df_d[0:training_size,:],df_d[training_size:len(df_d),:1]"
   ]
  },
  {
   "cell_type": "code",
   "execution_count": 196,
   "metadata": {},
   "outputs": [
    {
     "data": {
      "text/plain": [
       "(540, 60)"
      ]
     },
     "execution_count": 196,
     "metadata": {},
     "output_type": "execute_result"
    }
   ],
   "source": [
    "len(train_data), len(test_data)"
   ]
  },
  {
   "cell_type": "code",
   "execution_count": null,
   "metadata": {},
   "outputs": [],
   "source": []
  },
  {
   "cell_type": "code",
   "execution_count": null,
   "metadata": {},
   "outputs": [],
   "source": []
  },
  {
   "cell_type": "code",
   "execution_count": null,
   "metadata": {},
   "outputs": [],
   "source": []
  },
  {
   "cell_type": "code",
   "execution_count": 197,
   "metadata": {},
   "outputs": [
    {
     "data": {
      "text/plain": [
       "(540, 60)"
      ]
     },
     "execution_count": 197,
     "metadata": {},
     "output_type": "execute_result"
    }
   ],
   "source": [
    "training_size,test_size"
   ]
  },
  {
   "cell_type": "code",
   "execution_count": null,
   "metadata": {},
   "outputs": [],
   "source": []
  },
  {
   "cell_type": "code",
   "execution_count": 198,
   "metadata": {},
   "outputs": [],
   "source": [
    "import numpy\n",
    "# convert an array of values into a dataset matrix\n",
    "def create_dataset(dataset, time_step=1):\n",
    "\tdataX, dataY = [], []\n",
    "\tfor i in range(len(dataset)-time_step-1):\n",
    "\t\ta = dataset[i:(i+time_step), 0]   ###i=0, 0,1,2,3-----99   100 \n",
    "\t\tdataX.append(a)\n",
    "\t\tdataY.append(dataset[i + time_step, 0])\n",
    "\treturn numpy.array(dataX), numpy.array(dataY)"
   ]
  },
  {
   "cell_type": "code",
   "execution_count": 199,
   "metadata": {},
   "outputs": [],
   "source": [
    "# reshape into X=t,t+1,t+2,t+3 and Y=t+4\n",
    "time_step = 5\n",
    "X_train, y_train = create_dataset(train_data, time_step)\n",
    "X_test, y_test = create_dataset(test_data, time_step)"
   ]
  },
  {
   "cell_type": "code",
   "execution_count": 200,
   "metadata": {},
   "outputs": [
    {
     "data": {
      "text/plain": [
       "54"
      ]
     },
     "execution_count": 200,
     "metadata": {},
     "output_type": "execute_result"
    }
   ],
   "source": [
    "len(y_test)"
   ]
  },
  {
   "cell_type": "code",
   "execution_count": 201,
   "metadata": {},
   "outputs": [
    {
     "data": {
      "text/plain": [
       "(54, 54)"
      ]
     },
     "execution_count": 201,
     "metadata": {},
     "output_type": "execute_result"
    }
   ],
   "source": [
    "len(X_test), len(y_test)"
   ]
  },
  {
   "cell_type": "code",
   "execution_count": null,
   "metadata": {},
   "outputs": [],
   "source": []
  },
  {
   "cell_type": "code",
   "execution_count": 202,
   "metadata": {},
   "outputs": [
    {
     "name": "stdout",
     "output_type": "stream",
     "text": [
      "(534, 5)\n",
      "(534,)\n"
     ]
    },
    {
     "data": {
      "text/plain": [
       "(None, None)"
      ]
     },
     "execution_count": 202,
     "metadata": {},
     "output_type": "execute_result"
    }
   ],
   "source": [
    "print(X_train.shape), print(y_train.shape)"
   ]
  },
  {
   "cell_type": "code",
   "execution_count": 203,
   "metadata": {},
   "outputs": [
    {
     "name": "stdout",
     "output_type": "stream",
     "text": [
      "(54, 5)\n",
      "(54,)\n"
     ]
    },
    {
     "data": {
      "text/plain": [
       "(None, None)"
      ]
     },
     "execution_count": 203,
     "metadata": {},
     "output_type": "execute_result"
    }
   ],
   "source": [
    "print(X_test.shape), print(y_test.shape)"
   ]
  },
  {
   "cell_type": "code",
   "execution_count": 204,
   "metadata": {},
   "outputs": [],
   "source": [
    "# reshape input to be [samples, time steps, features] which is required for LSTM\n",
    "X_train =X_train.reshape(X_train.shape[0],X_train.shape[1] , 1)\n",
    "X_test = X_test.reshape(X_test.shape[0],X_test.shape[1] , 1)"
   ]
  },
  {
   "cell_type": "code",
   "execution_count": 205,
   "metadata": {},
   "outputs": [
    {
     "data": {
      "text/plain": [
       "((534, 5, 1), (54, 5, 1))"
      ]
     },
     "execution_count": 205,
     "metadata": {},
     "output_type": "execute_result"
    }
   ],
   "source": [
    "X_train.shape, X_test.shape"
   ]
  },
  {
   "cell_type": "code",
   "execution_count": null,
   "metadata": {},
   "outputs": [],
   "source": []
  },
  {
   "cell_type": "code",
   "execution_count": 206,
   "metadata": {},
   "outputs": [],
   "source": [
    "### Create the Stacked LSTM model\n",
    "from tensorflow.keras.models import Sequential\n",
    "from tensorflow.keras.layers import Dense\n",
    "from tensorflow.keras.layers import LSTM"
   ]
  },
  {
   "cell_type": "code",
   "execution_count": 207,
   "metadata": {},
   "outputs": [
    {
     "data": {
      "text/plain": [
       "5"
      ]
     },
     "execution_count": 207,
     "metadata": {},
     "output_type": "execute_result"
    }
   ],
   "source": [
    "X_test.shape[1]"
   ]
  },
  {
   "cell_type": "code",
   "execution_count": 208,
   "metadata": {},
   "outputs": [],
   "source": [
    "model=Sequential()\n",
    "model.add(LSTM(50,return_sequences=True,input_shape=(X_test.shape[1],1)))\n",
    "model.add(LSTM(50,return_sequences=True))\n",
    "model.add(LSTM(50))\n",
    "model.add(Dense(1))\n",
    "model.compile(loss='mean_squared_error',optimizer='adam')\n"
   ]
  },
  {
   "cell_type": "code",
   "execution_count": 209,
   "metadata": {},
   "outputs": [
    {
     "name": "stdout",
     "output_type": "stream",
     "text": [
      "Model: \"sequential_5\"\n",
      "_________________________________________________________________\n",
      "Layer (type)                 Output Shape              Param #   \n",
      "=================================================================\n",
      "lstm_12 (LSTM)               (None, 5, 50)             10400     \n",
      "_________________________________________________________________\n",
      "lstm_13 (LSTM)               (None, 5, 50)             20200     \n",
      "_________________________________________________________________\n",
      "lstm_14 (LSTM)               (None, 50)                20200     \n",
      "_________________________________________________________________\n",
      "dense_4 (Dense)              (None, 1)                 51        \n",
      "=================================================================\n",
      "Total params: 50,851\n",
      "Trainable params: 50,851\n",
      "Non-trainable params: 0\n",
      "_________________________________________________________________\n"
     ]
    }
   ],
   "source": [
    "model.summary()"
   ]
  },
  {
   "cell_type": "code",
   "execution_count": null,
   "metadata": {},
   "outputs": [],
   "source": [
    "\n"
   ]
  },
  {
   "cell_type": "code",
   "execution_count": null,
   "metadata": {},
   "outputs": [],
   "source": []
  },
  {
   "cell_type": "code",
   "execution_count": 210,
   "metadata": {},
   "outputs": [
    {
     "name": "stdout",
     "output_type": "stream",
     "text": [
      "Epoch 1/20\n",
      "9/9 [==============================] - 13s 305ms/step - loss: 0.0408 - val_loss: 0.4233\n",
      "Epoch 2/20\n",
      "9/9 [==============================] - 0s 30ms/step - loss: 0.0169 - val_loss: 0.2062\n",
      "Epoch 3/20\n",
      "9/9 [==============================] - 0s 25ms/step - loss: 0.0109 - val_loss: 0.0483\n",
      "Epoch 4/20\n",
      "9/9 [==============================] - 0s 26ms/step - loss: 0.0018 - val_loss: 0.1017\n",
      "Epoch 5/20\n",
      "9/9 [==============================] - 0s 25ms/step - loss: 0.0015 - val_loss: 0.0146\n",
      "Epoch 6/20\n",
      "9/9 [==============================] - 0s 25ms/step - loss: 6.7722e-04 - val_loss: 0.0040\n",
      "Epoch 7/20\n",
      "9/9 [==============================] - 0s 25ms/step - loss: 6.0944e-04 - val_loss: 0.0202\n",
      "Epoch 8/20\n",
      "9/9 [==============================] - 0s 25ms/step - loss: 4.6915e-04 - val_loss: 0.0136\n",
      "Epoch 9/20\n",
      "9/9 [==============================] - 0s 25ms/step - loss: 3.8581e-04 - val_loss: 0.0082\n",
      "Epoch 10/20\n",
      "9/9 [==============================] - 0s 25ms/step - loss: 4.4304e-04 - val_loss: 0.0095\n",
      "Epoch 11/20\n",
      "9/9 [==============================] - 0s 25ms/step - loss: 3.7407e-04 - val_loss: 0.0121\n",
      "Epoch 12/20\n",
      "9/9 [==============================] - 0s 25ms/step - loss: 5.1122e-04 - val_loss: 0.0093\n",
      "Epoch 13/20\n",
      "9/9 [==============================] - 0s 25ms/step - loss: 4.0412e-04 - val_loss: 0.0070\n",
      "Epoch 14/20\n",
      "9/9 [==============================] - 0s 25ms/step - loss: 4.4023e-04 - val_loss: 0.0066\n",
      "Epoch 15/20\n",
      "9/9 [==============================] - 0s 25ms/step - loss: 4.4741e-04 - val_loss: 0.0116\n",
      "Epoch 16/20\n",
      "9/9 [==============================] - 0s 25ms/step - loss: 6.4710e-04 - val_loss: 0.0078\n",
      "Epoch 17/20\n",
      "9/9 [==============================] - 0s 26ms/step - loss: 4.8796e-04 - val_loss: 0.0053\n",
      "Epoch 18/20\n",
      "9/9 [==============================] - 0s 25ms/step - loss: 4.6028e-04 - val_loss: 0.0067\n",
      "Epoch 19/20\n",
      "9/9 [==============================] - 0s 25ms/step - loss: 4.0620e-04 - val_loss: 0.0057\n",
      "Epoch 20/20\n",
      "9/9 [==============================] - 0s 25ms/step - loss: 3.9651e-04 - val_loss: 0.0037\n"
     ]
    },
    {
     "data": {
      "text/plain": [
       "<tensorflow.python.keras.callbacks.History at 0x188edd7bd00>"
      ]
     },
     "execution_count": 210,
     "metadata": {},
     "output_type": "execute_result"
    }
   ],
   "source": [
    "model.fit(X_train,y_train,validation_data=(X_test,y_test),epochs=20,batch_size=64,verbose=1)"
   ]
  },
  {
   "cell_type": "code",
   "execution_count": 211,
   "metadata": {},
   "outputs": [],
   "source": [
    "import tensorflow as tf"
   ]
  },
  {
   "cell_type": "code",
   "execution_count": null,
   "metadata": {},
   "outputs": [],
   "source": []
  },
  {
   "cell_type": "code",
   "execution_count": 212,
   "metadata": {},
   "outputs": [],
   "source": [
    "### Lets Do the prediction and check performance metrics\n",
    "train_predict=model.predict(X_train)\n",
    "test_predict=model.predict(X_test)"
   ]
  },
  {
   "cell_type": "code",
   "execution_count": 213,
   "metadata": {},
   "outputs": [],
   "source": [
    "##Transformback to original form\n",
    "train_predict=scaler.inverse_transform(train_predict)\n",
    "test_predict=scaler.inverse_transform(test_predict)"
   ]
  },
  {
   "cell_type": "code",
   "execution_count": 214,
   "metadata": {},
   "outputs": [
    {
     "data": {
      "text/plain": [
       "14842.403057467114"
      ]
     },
     "execution_count": 214,
     "metadata": {},
     "output_type": "execute_result"
    }
   ],
   "source": [
    "### Calculate RMSE performance metrics\n",
    "import math\n",
    "from sklearn.metrics import mean_squared_error\n",
    "math.sqrt(mean_squared_error(y_train,train_predict))"
   ]
  },
  {
   "cell_type": "code",
   "execution_count": 215,
   "metadata": {},
   "outputs": [
    {
     "data": {
      "text/plain": [
       "56402.22943812085"
      ]
     },
     "execution_count": 215,
     "metadata": {},
     "output_type": "execute_result"
    }
   ],
   "source": [
    "### Test Data RMSE\n",
    "math.sqrt(mean_squared_error(y_test,test_predict))"
   ]
  },
  {
   "cell_type": "code",
   "execution_count": 216,
   "metadata": {},
   "outputs": [
    {
     "data": {
      "image/png": "[encoded data removed]",
      "text/plain": [
       "<Figure size 432x288 with 1 Axes>"
      ]
     },
     "metadata": {
      "needs_background": "light"
     },
     "output_type": "display_data"
    }
   ],
   "source": [
    "### Plotting \n",
    "# shift train predictions for plotting\n",
    "look_back=5\n",
    "trainPredictPlot = numpy.empty_like(df_d)\n",
    "trainPredictPlot[:, :] = np.nan\n",
    "trainPredictPlot[look_back:len(train_predict)+look_back, :] = train_predict\n",
    "# shift test predictions for plotting\n",
    "testPredictPlot = numpy.empty_like(df_d)\n",
    "testPredictPlot[:, :] = numpy.nan\n",
    "testPredictPlot[len(train_predict)+(look_back*2)+1:len(df_d)-1, :] = test_predict\n",
    "# plot baseline and predictions\n",
    "plt.plot(scaler.inverse_transform(df_d))\n",
    "plt.plot(trainPredictPlot)\n",
    "plt.plot(testPredictPlot)\n",
    "plt.show()"
   ]
  },
  {
   "cell_type": "code",
   "execution_count": 217,
   "metadata": {},
   "outputs": [
    {
     "data": {
      "text/plain": [
       "60"
      ]
     },
     "execution_count": 217,
     "metadata": {},
     "output_type": "execute_result"
    }
   ],
   "source": [
    "len(test_data)"
   ]
  },
  {
   "cell_type": "code",
   "execution_count": 218,
   "metadata": {},
   "outputs": [
    {
     "data": {
      "text/plain": [
       "(1, 5)"
      ]
     },
     "execution_count": 218,
     "metadata": {},
     "output_type": "execute_result"
    }
   ],
   "source": [
    "x_input=test_data[len(test_data)-time_step:].reshape(1,-1)\n",
    "x_input.shape"
   ]
  },
  {
   "cell_type": "code",
   "execution_count": null,
   "metadata": {},
   "outputs": [],
   "source": []
  },
  {
   "cell_type": "code",
   "execution_count": null,
   "metadata": {},
   "outputs": [],
   "source": []
  },
  {
   "cell_type": "code",
   "execution_count": 219,
   "metadata": {},
   "outputs": [],
   "source": [
    "temp_input=list(x_input)\n",
    "temp_input=temp_input[0].tolist()"
   ]
  },
  {
   "cell_type": "code",
   "execution_count": 220,
   "metadata": {},
   "outputs": [
    {
     "data": {
      "text/plain": [
       "[0.994460585247879,\n",
       " 0.9637578651294105,\n",
       " 0.939849778987075,\n",
       " 0.8759616578293852,\n",
       " 0.8810925430850465]"
      ]
     },
     "execution_count": 220,
     "metadata": {},
     "output_type": "execute_result"
    }
   ],
   "source": [
    "temp_input"
   ]
  },
  {
   "cell_type": "code",
   "execution_count": 221,
   "metadata": {
    "scrolled": true
   },
   "outputs": [
    {
     "name": "stdout",
     "output_type": "stream",
     "text": [
      "[0.97497076]\n",
      "6\n",
      "1 day input [0.96375787 0.93984978 0.87596166 0.88109254 0.97497076]\n",
      "1 day output [[0.949504]]\n",
      "2 day input [0.93984978 0.87596166 0.88109254 0.97497076 0.94950402]\n",
      "2 day output [[0.9324406]]\n",
      "3 day input [0.87596166 0.88109254 0.97497076 0.94950402 0.93244058]\n",
      "3 day output [[0.9240094]]\n",
      "4 day input [0.88109254 0.97497076 0.94950402 0.93244058 0.92400938]\n",
      "4 day output [[0.9451706]]\n",
      "5 day input [0.97497076 0.94950402 0.93244058 0.92400938 0.94517058]\n",
      "5 day output [[0.9698326]]\n",
      "6 day input [0.94950402 0.93244058 0.92400938 0.94517058 0.9698326 ]\n",
      "6 day output [[0.95727533]]\n",
      "7 day input [0.93244058 0.92400938 0.94517058 0.9698326  0.95727533]\n",
      "7 day output [[0.9544994]]\n",
      "8 day input [0.92400938 0.94517058 0.9698326  0.95727533 0.95449942]\n",
      "8 day output [[0.96030414]]\n",
      "9 day input [0.94517058 0.9698326  0.95727533 0.95449942 0.96030414]\n",
      "9 day output [[0.9725354]]\n",
      "[[0.9749707579612732], [0.949504017829895], [0.9324405789375305], [0.924009382724762], [0.9451705813407898], [0.9698325991630554], [0.9572753310203552], [0.9544994235038757], [0.9603041410446167], [0.9725353717803955]]\n"
     ]
    }
   ],
   "source": [
    "# demonstrate prediction for next 10 days\n",
    "from numpy import array\n",
    "\n",
    "lst_output=[]\n",
    "n_steps=5\n",
    "i=0\n",
    "while(i<10):\n",
    "    \n",
    "    if(len(temp_input)>5):\n",
    "        #print(temp_input)\n",
    "        x_input=np.array(temp_input[1:])\n",
    "        print(\"{} day input {}\".format(i,x_input))\n",
    "        x_input=x_input.reshape(1,-1)\n",
    "        x_input = x_input.reshape((1, n_steps, 1))\n",
    "        #print(x_input)\n",
    "        yhat = model.predict(x_input, verbose=0)\n",
    "        print(\"{} day output {}\".format(i,yhat))\n",
    "        temp_input.extend(yhat[0].tolist())\n",
    "        temp_input=temp_input[1:]\n",
    "        #print(temp_input)\n",
    "        lst_output.extend(yhat.tolist())\n",
    "        i=i+1\n",
    "    else:\n",
    "        x_input = x_input.reshape((1, n_steps,1))\n",
    "        yhat = model.predict(x_input, verbose=0)\n",
    "        print(yhat[0])\n",
    "        temp_input.extend(yhat[0].tolist())\n",
    "        print(len(temp_input))\n",
    "        lst_output.extend(yhat.tolist())\n",
    "        i=i+1\n",
    "    \n",
    "\n",
    "print(lst_output)"
   ]
  },
  {
   "cell_type": "code",
   "execution_count": 222,
   "metadata": {},
   "outputs": [
    {
     "data": {
      "text/plain": [
       "[[0.9749707579612732],\n",
       " [0.949504017829895],\n",
       " [0.9324405789375305],\n",
       " [0.924009382724762],\n",
       " [0.9451705813407898],\n",
       " [0.9698325991630554],\n",
       " [0.9572753310203552],\n",
       " [0.9544994235038757],\n",
       " [0.9603041410446167],\n",
       " [0.9725353717803955]]"
      ]
     },
     "execution_count": 222,
     "metadata": {},
     "output_type": "execute_result"
    }
   ],
   "source": [
    "lst_output"
   ]
  },
  {
   "cell_type": "code",
   "execution_count": 223,
   "metadata": {},
   "outputs": [
    {
     "data": {
      "text/plain": [
       "array([[62094.69257532],\n",
       "       [60599.21403326],\n",
       "       [59597.20095324],\n",
       "       [59102.09741996],\n",
       "       [60344.74246566],\n",
       "       [61792.96545246],\n",
       "       [61055.5673812 ],\n",
       "       [60892.55829153],\n",
       "       [61233.42761678],\n",
       "       [61951.67985534]])"
      ]
     },
     "execution_count": 223,
     "metadata": {},
     "output_type": "execute_result"
    }
   ],
   "source": [
    "scaler.inverse_transform(lst_output)"
   ]
  },
  {
   "cell_type": "code",
   "execution_count": 179,
   "metadata": {},
   "outputs": [],
   "source": [
    "day_new=np.arange(1,6)\n",
    "day_pred=np.arange(101,107)"
   ]
  },
  {
   "cell_type": "code",
   "execution_count": 61,
   "metadata": {},
   "outputs": [
    {
     "data": {
      "text/plain": [
       "(array([1, 2, 3, 4, 5]), array([101, 102, 103, 104, 105, 106]))"
      ]
     },
     "execution_count": 61,
     "metadata": {},
     "output_type": "execute_result"
    }
   ],
   "source": [
    "day_new, day_pred"
   ]
  },
  {
   "cell_type": "code",
   "execution_count": 62,
   "metadata": {},
   "outputs": [],
   "source": [
    "model.save(\"BTC_Model.h5\")"
   ]
  },
  {
   "cell_type": "code",
   "execution_count": 63,
   "metadata": {},
   "outputs": [],
   "source": [
    "from keras.models import load_model"
   ]
  },
  {
   "cell_type": "code",
   "execution_count": 64,
   "metadata": {},
   "outputs": [],
   "source": [
    "modll = load_model(\"BTC_Model.h5\")"
   ]
  },
  {
   "cell_type": "code",
   "execution_count": 65,
   "metadata": {},
   "outputs": [
    {
     "data": {
      "text/plain": [
       "array([1.        , 0.99327279, 0.99676343, 0.96653985, 0.99152529])"
      ]
     },
     "execution_count": 65,
     "metadata": {},
     "output_type": "execute_result"
    }
   ],
   "source": [
    "abc = np.array([1.  ,       0.99327279, 0.99676343, 0.96653985, 0.99152529])\n",
    "abc"
   ]
  },
  {
   "cell_type": "code",
   "execution_count": 66,
   "metadata": {},
   "outputs": [
    {
     "data": {
      "text/plain": [
       "(5,)"
      ]
     },
     "execution_count": 66,
     "metadata": {},
     "output_type": "execute_result"
    }
   ],
   "source": [
    "abc.shape"
   ]
  },
  {
   "cell_type": "code",
   "execution_count": 67,
   "metadata": {},
   "outputs": [],
   "source": [
    "abc = abc[:,np.newaxis]"
   ]
  },
  {
   "cell_type": "code",
   "execution_count": 68,
   "metadata": {},
   "outputs": [
    {
     "data": {
      "text/plain": [
       "(5, 1)"
      ]
     },
     "execution_count": 68,
     "metadata": {},
     "output_type": "execute_result"
    }
   ],
   "source": [
    "abc.shape"
   ]
  },
  {
   "cell_type": "code",
   "execution_count": 69,
   "metadata": {},
   "outputs": [
    {
     "data": {
      "text/plain": [
       "2"
      ]
     },
     "execution_count": 69,
     "metadata": {},
     "output_type": "execute_result"
    }
   ],
   "source": [
    "abc.ndim"
   ]
  },
  {
   "cell_type": "code",
   "execution_count": 70,
   "metadata": {},
   "outputs": [],
   "source": [
    "abc = abc.reshape(1,5,1)"
   ]
  },
  {
   "cell_type": "code",
   "execution_count": 71,
   "metadata": {},
   "outputs": [
    {
     "data": {
      "text/plain": [
       "(1, 5, 1)"
      ]
     },
     "execution_count": 71,
     "metadata": {},
     "output_type": "execute_result"
    }
   ],
   "source": [
    "abc.shape"
   ]
  },
  {
   "cell_type": "code",
   "execution_count": 72,
   "metadata": {},
   "outputs": [
    {
     "data": {
      "text/plain": [
       "array([[[1.        ],\n",
       "        [0.99327279],\n",
       "        [0.99676343],\n",
       "        [0.96653985],\n",
       "        [0.99152529]]])"
      ]
     },
     "execution_count": 72,
     "metadata": {},
     "output_type": "execute_result"
    }
   ],
   "source": [
    "abc"
   ]
  },
  {
   "cell_type": "code",
   "execution_count": 73,
   "metadata": {},
   "outputs": [
    {
     "data": {
      "text/plain": [
       "array([[51189.453]], dtype=float32)"
      ]
     },
     "execution_count": 73,
     "metadata": {},
     "output_type": "execute_result"
    }
   ],
   "source": [
    "scaler.inverse_transform(modll.predict(abc))"
   ]
  },
  {
   "cell_type": "code",
   "execution_count": null,
   "metadata": {},
   "outputs": [],
   "source": []
  }
 ],
 "metadata": {
  "kernelspec": {
   "display_name": "Python 3",
   "language": "python",
   "name": "python3"
  },
  "language_info": {
   "codemirror_mode": {
    "name": "ipython",
    "version": 3
   },
   "file_extension": ".py",
   "mimetype": "text/x-python",
   "name": "python",
   "nbconvert_exporter": "python",
   "pygments_lexer": "ipython3",
   "version": "3.8.5"
  }
 },
 "nbformat": 4,
 "nbformat_minor": 2
}
